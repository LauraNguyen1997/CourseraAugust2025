{
  "nbformat": 4,
  "nbformat_minor": 0,
  "metadata": {
    "colab": {
      "provenance": []
    },
    "kernelspec": {
      "name": "python3",
      "display_name": "Python 3"
    },
    "language_info": {
      "name": "python"
    }
  },
  "cells": [
    {
      "cell_type": "code",
      "execution_count": 2,
      "metadata": {
        "id": "ITIpqo8Jc19S"
      },
      "outputs": [],
      "source": []
    },
    {
      "cell_type": "markdown",
      "source": [
        "# Data Science Tools and Ecosystem\n",
        "\n",
        "In this notebook, Data Science Tools and Ecosystem are summarized.\n",
        "\n",
        "**Objectives:**\n",
        " 1. Introduction of popular languages in Data Science\n",
        " 2. Introduction of common libraries used in Data Science\n",
        " 3. List of Data Science tools\n",
        " 4. Examples of arithmetic expressions in Python\n",
        "\n",
        "Some of the popular languages that Data Scientists use are:\n",
        "1. Python: The most widely used language in data science\n",
        "2. R: Especially popular for statistical analysis, data visualization, and academic/research purposes.\n",
        "3. SQL: Essential for working with databases, querying, and managing structured data.\n",
        "4. Scala/Java: Often used in big data frameworks like Apache Spark for large-scale data processing.\n",
        "\n",
        "Some of the commonly used libraries used by Data Scientists include:\n",
        "1. NumPy: Provides support for large, multi-dimensional arrays and matrices, along with mathematical functions to operate on them.\n",
        "2. Pandas: Used for data manipulation and analysis; offers DataFrame objects that make handling structured data intuitive.\n",
        "3. Matplotlib: A widely used library for data visualization; allows plotting of graphs, charts, and other visual representations.\n",
        "\n",
        "| Data Science Tools |\n",
        "| ------------------ |\n",
        "|  Jupyter Notebook  |\n",
        "|      RStudio       |\n",
        "|  Apache Zeppelin   |\n",
        "\n",
        "### Below are a few examples of evaluating arithmetic expressions in Python."
      ],
      "metadata": {
        "id": "KxebLn13dPGt"
      }
    },
    {
      "cell_type": "code",
      "source": [
        "# This is a simple arithmetic expression to multiply and then add integers.\n",
        "result = (3 * 4) + 5\n",
        "print(\"The result is:\", result)"
      ],
      "metadata": {
        "colab": {
          "base_uri": "https://localhost:8080/"
        },
        "id": "eDPzlJgSdnBf",
        "outputId": "f8d93f1c-d783-4d70-ca82-74f89b278130"
      },
      "execution_count": 3,
      "outputs": [
        {
          "output_type": "stream",
          "name": "stdout",
          "text": [
            "The result is: 17\n"
          ]
        }
      ]
    },
    {
      "cell_type": "code",
      "source": [
        "# This will convert 200 minutes to hours by dividing by 60.\n",
        "minutes = 200\n",
        "hours = minutes / 60\n",
        "print(\"200 minutes is equal to\", hours, \"hours\")"
      ],
      "metadata": {
        "colab": {
          "base_uri": "https://localhost:8080/"
        },
        "id": "2wpz5XIYdpyh",
        "outputId": "104baab3-6f1f-4298-95ca-cd3b1949675b"
      },
      "execution_count": 4,
      "outputs": [
        {
          "output_type": "stream",
          "name": "stdout",
          "text": [
            "200 minutes is equal to 3.3333333333333335 hours\n"
          ]
        }
      ]
    },
    {
      "cell_type": "markdown",
      "source": [
        "## Author:\n",
        "Chi Lan Nguyen Dinh"
      ],
      "metadata": {
        "id": "SY0wggiQdsTd"
      }
    },
    {
      "cell_type": "code",
      "source": [],
      "metadata": {
        "id": "UHHP4WxvdvdE"
      },
      "execution_count": 4,
      "outputs": []
    },
    {
      "cell_type": "markdown",
      "source": [],
      "metadata": {
        "id": "AtPU-e4mdE61"
      }
    },
    {
      "cell_type": "markdown",
      "source": [],
      "metadata": {
        "id": "buzXUVCTc6--"
      }
    }
  ]
}